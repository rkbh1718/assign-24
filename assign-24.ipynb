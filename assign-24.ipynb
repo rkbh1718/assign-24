{
 "cells": [
  {
   "cell_type": "markdown",
   "id": "c979d01b",
   "metadata": {},
   "source": [
    "# 1. What is the relationship between def statements and lambda expressions ?"
   ]
  },
  {
   "cell_type": "code",
   "execution_count": null,
   "id": "6a7b7e15",
   "metadata": {},
   "outputs": [],
   "source": [
    "both def and lambda is used for function"
   ]
  },
  {
   "cell_type": "markdown",
   "id": "125a9415",
   "metadata": {},
   "source": [
    "# 2. What is the benefit of lambda?"
   ]
  },
  {
   "cell_type": "code",
   "execution_count": null,
   "id": "0df5ab66",
   "metadata": {},
   "outputs": [],
   "source": [
    "The lambda keyword in Python provides a shortcut for declaring small anonymous functions. Lambda functions behave just like regular functions declared with the def keyword. They can be used whenever function objects are required."
   ]
  },
  {
   "cell_type": "markdown",
   "id": "d7b22c92",
   "metadata": {},
   "source": [
    "# 3. Compare and contrast map, filter, and reduce."
   ]
  },
  {
   "cell_type": "code",
   "execution_count": null,
   "id": "0ef47ba2",
   "metadata": {},
   "outputs": [],
   "source": [
    "map() and filter() both has taking two parameter one is function name and iterable and reduce() works differently than map() and filter(). It does not return a new list based on the function and iterable we've passed. Instead, it returns a single value."
   ]
  },
  {
   "cell_type": "markdown",
   "id": "b9a82302",
   "metadata": {},
   "source": [
    "# 4. What are function annotations, and how are they used?\n"
   ]
  },
  {
   "cell_type": "code",
   "execution_count": null,
   "id": "9849d651",
   "metadata": {},
   "outputs": [],
   "source": [
    "Function annotations are completely optional both for parameters and return value. Function annotations provide a way of associating various parts of a function with arbitrary python expressions at compile time."
   ]
  },
  {
   "cell_type": "markdown",
   "id": "cf319bd2",
   "metadata": {},
   "source": [
    "# 5. What are recursive functions, and how are they used?"
   ]
  },
  {
   "cell_type": "code",
   "execution_count": null,
   "id": "9f7a9df3",
   "metadata": {},
   "outputs": [],
   "source": [
    "A recursive function is a function that calls itself during its execution. The process may repeat several times, outputting the result and the end of each iteration."
   ]
  },
  {
   "cell_type": "markdown",
   "id": "b5df7b63",
   "metadata": {},
   "source": [
    "# 6. What are some general design guidelines for coding functions?"
   ]
  },
  {
   "cell_type": "code",
   "execution_count": 3,
   "id": "bf36d364",
   "metadata": {},
   "outputs": [
    {
     "data": {
      "text/plain": [
       "'a'"
      ]
     },
     "execution_count": 3,
     "metadata": {},
     "output_type": "execute_result"
    }
   ],
   "source": [
    "function should start with def\n",
    "function shoul return whatever parameter defined in function\n",
    "we need to call function with the name of function name\n",
    "#ex-\n",
    "\n",
    "def fun(z):\n",
    "    return z\n",
    "fun('a')"
   ]
  },
  {
   "cell_type": "markdown",
   "id": "fbda6191",
   "metadata": {},
   "source": [
    "# 7. Name three or more ways that functions can communicate results to a caller."
   ]
  },
  {
   "cell_type": "code",
   "execution_count": null,
   "id": "ede69f01",
   "metadata": {},
   "outputs": [],
   "source": [
    "print , return , yeild"
   ]
  }
 ],
 "metadata": {
  "kernelspec": {
   "display_name": "Python 3",
   "language": "python",
   "name": "python3"
  },
  "language_info": {
   "codemirror_mode": {
    "name": "ipython",
    "version": 3
   },
   "file_extension": ".py",
   "mimetype": "text/x-python",
   "name": "python",
   "nbconvert_exporter": "python",
   "pygments_lexer": "ipython3",
   "version": "3.8.8"
  }
 },
 "nbformat": 4,
 "nbformat_minor": 5
}
